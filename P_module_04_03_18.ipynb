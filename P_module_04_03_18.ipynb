{
 "cells": [
  {
   "cell_type": "code",
   "execution_count": 3,
   "metadata": {
    "collapsed": true
   },
   "outputs": [],
   "source": [
    "import pandas as pd\n",
    "import numpy as np"
   ]
  },
  {
   "cell_type": "code",
   "execution_count": 4,
   "metadata": {},
   "outputs": [],
   "source": [
    "data= pd.read_excel('dummy_data.xlsx')"
   ]
  },
  {
   "cell_type": "code",
   "execution_count": 6,
   "metadata": {
    "collapsed": true
   },
   "outputs": [],
   "source": [
    "data['Percolation(mm)'] = data['Percolation (m^3)']/ data['Area (m^2)'] *1000\n"
   ]
  },
  {
   "cell_type": "code",
   "execution_count": 51,
   "metadata": {
    "collapsed": true
   },
   "outputs": [],
   "source": [
    "\n",
    "#############################################################################\n",
    "            #Initialize P\n",
    "#############################################################################\n",
    "\"\"\"\n",
    "Organic phosphorus levels are assigned assuming that the N:P ratio for \n",
    "humic materials is 8:1\n",
    "humic_orgN: Concentration of humic organic N in the layer (mg/kg) \n",
    "humic_orgP1: Concentration of humic organic P in the layer (mg/kg) \n",
    "\"\"\"\n",
    "#humic_orgN = 300\n",
    "humic_orgP1 = 0.125*humic_orgN\n",
    "\n",
    "#fresh_orgP: P in the fresh organic pool in layer (kg P/ha)\n",
    "fresh_orgP = 2 ##################\n",
    "\n",
    "#fresh_orgP: N in the fresh organic pool in layer (kg N/ha)\n",
    "fresh_orgN = 20 ##################\n",
    "\n",
    "#NO3: amount of nitrate in layer (kg N/ha)\n",
    "NO3 = 8 ##################\n",
    "\n",
    "#solP: Amount of phosphorus in solution (mg/kg)\n",
    "solP1 = 1\n",
    "\n",
    "\n",
    "#layer bulk density (Mg/m3)\n",
    "B_d = 1.3 #Bulk density values should fall between 1.1 and 1.9 Mg/m3.\n",
    "\n",
    "#lyr_dpth: the depth of the layer (mm).\n",
    "lyr_dpth = 200\n",
    "\n",
    "\n",
    "# convert conc to mass (Kg P /ha)\n",
    "solP = solP1 * B_d * lyr_dpth/100\n",
    "humic_orgP = humic_orgP1* B_d * lyr_dpth/100"
   ]
  },
  {
   "cell_type": "code",
   "execution_count": 52,
   "metadata": {
    "collapsed": true
   },
   "outputs": [],
   "source": [
    "\"\"\"\n",
    "humic_orgN: concentration  of  humic  organic  nitrogen  in  the  layer (mg/kg or ppm)\n",
    "orgC: amount of organic carbon in the layer (%)\n",
    "\"\"\"\n",
    "orgC = 30 ###################\n",
    "humic_orgN = 10**4 * (orgC/14)"
   ]
  },
  {
   "cell_type": "code",
   "execution_count": 53,
   "metadata": {
    "collapsed": true
   },
   "outputs": [],
   "source": [
    "\"\"\"\n",
    "active_orgN: concentration  of  nitrogen  in  the  active  organic  pool (mg/kg)\n",
    "stable_orgN: concentration  of  nitrogen  in  the  stable  organic  pool (mg/kg)\n",
    "Fr: The fraction of humic nitrogen in the active pool\n",
    "\"\"\"\n",
    "Fr = 0.02 #default\n",
    "active_orgN = humic_orgN * Fr\n",
    "stable_orgN = humic_orgN * (1-Fr)"
   ]
  },
  {
   "cell_type": "code",
   "execution_count": 50,
   "metadata": {
    "collapsed": true
   },
   "outputs": [],
   "source": [
    "#############################################################################\n",
    "            #MINERALIZATION & DECOMPOSITION/IMMOBILIZATION\n",
    "#############################################################################\n",
    "\n",
    "\"\"\"\n",
    "Two  sources  are considered  for  mineralization:  the  fresh  organic  \n",
    "P  pool  associated  with  crop residue and microbial biomass and the active\n",
    "organic P pool associated with soil humus.  Mineralization  and  decomposition \n",
    "are  allowed  to  occur  only  if  the temperature of the soil layer\n",
    "is above 0 degreeC. Mineralization and decomposition are dependent on water \n",
    "availability and temperature.  Two  factors  are  used  in  the  mineralization\n",
    "and  decomposition equations to account for the impact of temperature and water\n",
    "on these processes. \n",
    "NCTF: nutrient cycling temperature factor for each layer [not allowed to be smaller than 0.1]\n",
    "NCWF: nutrient cycling water factor for each layer [not allowed to be smaller than 0.05]\n",
    "soilT: temperature  of each layer in degreeC \n",
    "wc: soil water content for a given layer on a given day (mm)\n",
    "fc: water content of a given layer at field capacity on a given day (mm)\n",
    "\"\"\"\n",
    "\n",
    "#NCTF = 0.9 * soilT/ soilT + np.exp(9.93-0.312*soilT) + 0.1\n",
    "NCTF = 0.1 #########################\n",
    "#NCWF = wc/fc\n",
    "NCWF=0.05  #########################"
   ]
  },
  {
   "cell_type": "code",
   "execution_count": 56,
   "metadata": {},
   "outputs": [],
   "source": [
    "\"\"\"\n",
    "HUMUS MINERALIZATION\n",
    "active_orgP:  amount of phosphorus in the active organic pool (kg P/ha)\n",
    "stable_orgP:  amount of phosphorus in the stable organic pool (kg P/ha)\n",
    "minP_humicorgP: the phosphorus mineralized from the humus active organic P pool (kg  P/ha)\n",
    "B_min: rate  coefficient  for  mineralization  of  the  humus  active organic nutrients\n",
    "Phosphorus mineralized from the humus active organic pool is added to the\n",
    "solution P pool in the layer\n",
    "\"\"\"\n",
    "\n",
    "active_orgP = humic_orgP * (active_orgN/active_orgN + stable_orgN)\n",
    "stable_orgP = humic_orgP * (stable_orgN/active_orgN + stable_orgN)\n",
    "\n",
    "B_min = 0.5 ##############################\n",
    "\n",
    "minP_humicorgP = 1.4* B_min * np.sqrt(NCTF*NCWF) * active_orgP"
   ]
  },
  {
   "cell_type": "code",
   "execution_count": 49,
   "metadata": {},
   "outputs": [],
   "source": [
    "\"\"\"\n",
    "Decomposition and mineralization \n",
    "Allowed only in first soil layer and controlled by a decay rate constant that \n",
    "is updated daily. \n",
    "The decay rate constant is  calculated  as  a  function  of  the  C:N  ratio \n",
    "and  C:P  ratio  of  the  residue, temperature and soil water content. \n",
    "E_cn: C:N ratio of the residue n the soil layer \n",
    "rsd: residue in layer ly (kg/ha)\n",
    "0.58: fraction of residue that is carbon\n",
    "fresh_orgN: nitrogen in the fresh organic pool in layer (kg N/ha)\n",
    "NO3: amount of nitrate in layer (kg N/ha). \n",
    "E_cp: C:P ratio of the residue n the soil layer\n",
    "solP : amount of phosphorus in solution in layer (kg P/ha)\n",
    "fresh_orgP: hosphorus in the fresh organic pool in layer (kg P/ha).\n",
    "\"\"\"\n",
    "rsd=1 ###############################\n",
    "\n",
    "E_cn = 0.58 * rsd /fresh_orgN + NO3\n",
    "\n",
    "E_cp = 0.58 * rsd /fresh_orgP + solP\n",
    "\n",
    "\n",
    "\"\"\"\n",
    "DECAY RATE CONSTANT\n",
    "The decay rate constant defines the fraction of residue that is decomposed. \n",
    "d_rate_const: decay rate constant \n",
    "B_rsd: The  fraction  of  residue  which  will  decompose  in  a  day assuming \n",
    "optimal  moisture,  temperature,  C:N  ratio  and  C:P ratio (default=0.05).\n",
    "\"\"\"\n",
    "a = np.exp(-0.693*(E_cn - 25)/25)\n",
    "b = np.exp(-0.693*(E_cp - 200)/200)\n",
    "c = [a,b,1]\n",
    "\n",
    "NCRC = min(c)\n",
    "\n",
    "B_rsd = 0.05\n",
    "\n",
    "d_rate_const =  B_rsd * NCRC * np.sqrt(NCTF*NCWF)\n",
    "\n",
    "#minP_freshorgP : Mineralization from the residue fresh organic P pool \n",
    "#decP_freshorgP : decomposition from the residue fresh organic P pool\n",
    "minP_freshorgP = 0.8 * d_rate_const * fresh_orgP\n",
    "\n",
    "decP_freshorgP = 0.2 * d_rate_const * fresh_orgP"
   ]
  },
  {
   "cell_type": "code",
   "execution_count": 20,
   "metadata": {
    "collapsed": true
   },
   "outputs": [],
   "source": [
    "#############################################################################\n",
    "            #SORPTION OF INORGANIC P\n",
    "#############################################################################\n",
    "\n",
    "\"\"\"\n",
    "SWAT assumes a rapid equilibrium exists between solution  P  and  an  “active”\n",
    "mineral  pool. slow  reaction  is simulated  by  the  slow  equilibrium  \n",
    "assumed  to  exist  between  the  “active”  and “stable”  mineral  pools. \n",
    "Equilibration between the solution and active mineral pool is governed by \n",
    "the phosphorus availability index (PAI)\n",
    "solnP_f: amount  of phosphorus in solution after fertilization and incubation\n",
    "solnP_i: amount  of phosphorus in solution before fertilization \n",
    "fert_minP: the amount of soluble P fertilizer added to the sample\n",
    "\n",
    "PAI is calulated as:\n",
    "PAI = solnP_f - solnP_i/fert_minP\n",
    "\n",
    "if the value is not provided, default value is set to 0.4\"\"\"\n",
    "PAI = 0.4"
   ]
  },
  {
   "cell_type": "code",
   "execution_count": 22,
   "metadata": {},
   "outputs": [
    {
     "name": "stdout",
     "output_type": "stream",
     "text": [
      "0.258666666667\n"
     ]
    }
   ],
   "source": [
    "\"\"\"\n",
    "MOVEMENT BETWEEN ACTIVE MINERAL POOL AND SOLUTION\n",
    "The  movement  of  phosphorus  between  the  solution  and  active  mineral \n",
    "pools is governed by the equilibration equations: \n",
    "P_trans_sol_active_P: Amount of phosphorus transferred between the soluble and \n",
    "active mineral pool (kg P/ha). Positive value indicates transfer from \n",
    "solution to active mineral pool and vice a versa.\n",
    "solP:  Amount of phosphorus in solution (kg P/ha)\n",
    "active_minP: amount of phosphorus in the active mineral pool (kg P/ha)\n",
    "\"\"\"\n",
    "active_minP = 0.02 #####################################\n",
    "minP=0.4 ####################################\n",
    "\n",
    "if solP > minP * (PAI/(1-PAI)):\n",
    "    P_trans_sol_active_P = 0.1*(solP - active_minP * (PAI/(1-PAI)))\n",
    "    #print P_trans_sol_active_P\n",
    "elif solP < minP * (PAI/(1-PAI)):\n",
    "    P_trans_sol_active_P = 0.6*(solP - active_minP * (PAI/(1-PAI)))\n",
    "    #print P_trans_sol_active_P"
   ]
  },
  {
   "cell_type": "code",
   "execution_count": 27,
   "metadata": {},
   "outputs": [],
   "source": [
    "\"\"\"\n",
    "MOVEMENT BETWEEN STABLE MINERAL POOL AND SOLUTION\n",
    "When not in equilibrium, the movement of phosphorus between the active \n",
    "and stable mineral pools is governed by the equations:\n",
    "B_eqp:: slow equilibrium constant set to 0.0006 per day\n",
    "\"\"\"\n",
    "stable_minP = 0.2 ######################################\n",
    "B_eqp= 0.0006 \n",
    "if stable_minP < 4 * active_minP:\n",
    "    P_trans_sol_stable_P = B_eqp * (4 * active_minP - stable_minP)\n",
    "elif stable_minP > 4 * active_minP:\n",
    "    P_trans_sol_stable_P = 0.1 * B_eqp * (4 * active_minP - stable_minP)"
   ]
  },
  {
   "cell_type": "code",
   "execution_count": 11,
   "metadata": {
    "collapsed": true
   },
   "outputs": [],
   "source": [
    "W_prec_surf = data['Percolation(mm)']"
   ]
  },
  {
   "cell_type": "code",
   "execution_count": 14,
   "metadata": {},
   "outputs": [],
   "source": [
    "########## P LEACHING\n",
    "\n",
    "#P_perc : Amount of phosphorus moving from the top 10 mm into the first \n",
    "#soil layer (kg P/ha)\n",
    "#solP_10mm : amount of phosphorus in solution in the top 10 mm (kg P/ha)\n",
    "#W_prec_surf:  amount of water percolating to the first soil layer \n",
    "#from the top 10 mm on a given day (mm)\n",
    "#B_d: bulk density of the top 10mm  (Mg/m3) (assumed  to  be  equivalent  to  \n",
    "#bulk  density  of  first  soil  layer)\n",
    "#dpth: depth of the “surface” layer (10 mm)\n",
    "#Kd_perc: phosphorus percolation  coefficient  (m3/Mg)\n",
    "\n",
    "W_perc_surf = data['Percolation(mm)']\n",
    "solP_10mm = 1\n",
    "B_d = 1.3 #Bulk density values should fall between 1.1 and 1.9 Mg/m3. \n",
    "dpth = 200\n",
    "Kd_perc = 10 #The value can range from 10.0 to 17.5. default is 10\n",
    "\n",
    "P_perc = (solP_10mm * W_prec_surf) / (10 * B_d * dpth * Kd_perc)"
   ]
  },
  {
   "cell_type": "code",
   "execution_count": 16,
   "metadata": {},
   "outputs": [],
   "source": [
    "data['P_percolation(Kg P /ha)'] = P_perc\n"
   ]
  }
 ],
 "metadata": {
  "kernelspec": {
   "display_name": "Python 2",
   "language": "python",
   "name": "python2"
  },
  "language_info": {
   "codemirror_mode": {
    "name": "ipython",
    "version": 2
   },
   "file_extension": ".py",
   "mimetype": "text/x-python",
   "name": "python",
   "nbconvert_exporter": "python",
   "pygments_lexer": "ipython2",
   "version": "2.7.13"
  }
 },
 "nbformat": 4,
 "nbformat_minor": 2
}
