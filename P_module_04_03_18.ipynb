{
 "cells": [
  {
   "cell_type": "code",
   "execution_count": 2,
   "metadata": {
    "collapsed": true
   },
   "outputs": [],
   "source": [
    "import pandas as pd\n",
    "import numpy as np"
   ]
  },
  {
   "cell_type": "code",
   "execution_count": 3,
   "metadata": {
    "collapsed": true
   },
   "outputs": [],
   "source": [
    "data= pd.read_excel('dummy_data.xlsx')"
   ]
  },
  {
   "cell_type": "code",
   "execution_count": 4,
   "metadata": {
    "collapsed": true
   },
   "outputs": [],
   "source": [
    "data['Percolation(mm)'] = data['Percolation (m^3)']/ data['Area (m^2)'] *1000\n"
   ]
  },
  {
   "cell_type": "code",
   "execution_count": 7,
   "metadata": {},
   "outputs": [],
   "source": [
    "\n",
    "#############################################################################\n",
    "            #Initialize P\n",
    "#############################################################################\n",
    "\"\"\"\n",
    "Organic phosphorus levels are assigned assuming that the N:P ratio for \n",
    "humic materials is 8:1\n",
    "humic_orgN: Concentration of humic organic N in the layer (mg/kg) \n",
    "humic_orgP1: Concentration of humic organic P in the layer (mg/kg) \n",
    "\"\"\"\n",
    "\n",
    "\"\"\"\n",
    "humic_orgN: concentration  of  humic  organic  nitrogen  in  the  layer (mg/kg or ppm)\n",
    "orgC: amount of organic carbon in the layer (%)\n",
    "\"\"\"\n",
    "orgC = 30 ###################\n",
    "humic_orgN = 10**4 * (orgC/14)\n",
    "\n",
    "humic_orgP1 = 0.125*humic_orgN\n",
    "\n",
    "#fresh_orgP: P in the fresh organic pool in layer (kg P/ha)\n",
    "fresh_orgP = 2 ##################\n",
    "\n",
    "#fresh_orgP: N in the fresh organic pool in layer (kg N/ha)\n",
    "fresh_orgN = 20 ##################\n",
    "\n",
    "#NO3: amount of nitrate in layer (kg N/ha)\n",
    "NO3 = 8 ##################\n",
    "\n",
    "#solP: Amount of phosphorus in solution (mg/kg)\n",
    "solP1 = 1\n",
    "\n",
    "\n",
    "#layer bulk density (Mg/m3)\n",
    "B_d = 1.3 #Bulk density values should fall between 1.1 and 1.9 Mg/m3.\n",
    "\n",
    "#lyr_dpth: the depth of the layer (mm).\n",
    "lyr_dpth = 200\n",
    "\n",
    "\n",
    "# convert conc to mass (Kg P /ha)\n",
    "solP = solP1 * B_d * lyr_dpth/100\n",
    "humic_orgP = humic_orgP1* B_d * lyr_dpth/100"
   ]
  },
  {
   "cell_type": "code",
   "execution_count": 6,
   "metadata": {
    "collapsed": true
   },
   "outputs": [],
   "source": [
    "#######################################################################delet: already there in previous block.\n",
    "\"\"\"\n",
    "humic_orgN: concentration  of  humic  organic  nitrogen  in  the  layer (mg/kg or ppm)\n",
    "orgC: amount of organic carbon in the layer (%)\n",
    "\"\"\"\n",
    "#orgC = 30 ###################\n",
    "\n",
    "#humic_orgN = 10**4 * (orgC/14)"
   ]
  },
  {
   "cell_type": "code",
   "execution_count": 9,
   "metadata": {
    "collapsed": true
   },
   "outputs": [],
   "source": [
    "\"\"\"\n",
    "active_orgN: concentration  of  nitrogen  in  the  active  organic  pool (mg/kg)\n",
    "stable_orgN: concentration  of  nitrogen  in  the  stable  organic  pool (mg/kg)\n",
    "Fr: The fraction of humic nitrogen in the active pool\n",
    "\"\"\"\n",
    "Fr = 0.02 #default\n",
    "active_orgN = humic_orgN * Fr\n",
    "stable_orgN = humic_orgN * (1-Fr)"
   ]
  },
  {
   "cell_type": "code",
   "execution_count": 10,
   "metadata": {
    "collapsed": true
   },
   "outputs": [],
   "source": [
    "#############################################################################\n",
    "            #MINERALIZATION & DECOMPOSITION/IMMOBILIZATION\n",
    "#############################################################################\n",
    "\n",
    "\"\"\"\n",
    "Two  sources  are considered  for  mineralization:  the  fresh  organic  \n",
    "P  pool  associated  with  crop residue and microbial biomass and the active\n",
    "organic P pool associated with soil humus.  Mineralization  and  decomposition \n",
    "are  allowed  to  occur  only  if  the temperature of the soil layer\n",
    "is above 0 degreeC. Mineralization and decomposition are dependent on water \n",
    "availability and temperature.  Two  factors  are  used  in  the  mineralization\n",
    "and  decomposition equations to account for the impact of temperature and water\n",
    "on these processes. \n",
    "NCTF: nutrient cycling temperature factor for each layer [not allowed to be smaller than 0.1]\n",
    "NCWF: nutrient cycling water factor for each layer [not allowed to be smaller than 0.05]\n",
    "soilT: temperature  of each layer in degreeC \n",
    "wc: soil water content for a given layer on a given day (mm)\n",
    "fc: water content of a given layer at field capacity on a given day (mm)\n",
    "\"\"\"\n",
    "\n",
    "#NCTF = 0.9 * soilT/ soilT + np.exp(9.93-0.312*soilT) + 0.1\n",
    "NCTF = 0.1 #########################\n",
    "#NCWF = wc/fc\n",
    "NCWF=0.05  #########################"
   ]
  },
  {
   "cell_type": "code",
   "execution_count": 56,
   "metadata": {
    "collapsed": true
   },
   "outputs": [],
   "source": [
    "\"\"\"\n",
    "HUMUS MINERALIZATION\n",
    "active_orgP:  amount of phosphorus in the active organic pool (kg P/ha)\n",
    "stable_orgP:  amount of phosphorus in the stable organic pool (kg P/ha)\n",
    "minP_humicorgP: the phosphorus mineralized from the humus active organic P pool (kg  P/ha)\n",
    "B_min: rate  coefficient  for  mineralization  of  the  humus  active organic nutrients\n",
    "Phosphorus mineralized from the humus active organic pool is added to the\n",
    "solution P pool in the layer\n",
    "\"\"\"\n",
    "\n",
    "active_orgP = humic_orgP * (active_orgN/active_orgN + stable_orgN)\n",
    "stable_orgP = humic_orgP * (stable_orgN/active_orgN + stable_orgN)\n",
    "\n",
    "B_min = 0.5 ##############################\n",
    "\n",
    "minP_humicorgP = 1.4* B_min * np.sqrt(NCTF*NCWF) * active_orgP"
   ]
  },
  {
   "cell_type": "code",
   "execution_count": 49,
   "metadata": {
    "collapsed": true
   },
   "outputs": [],
   "source": [
    "\"\"\"\n",
    "Decomposition and mineralization \n",
    "Allowed only in first soil layer and controlled by a decay rate constant that \n",
    "is updated daily. \n",
    "The decay rate constant is  calculated  as  a  function  of  the  C:N  ratio \n",
    "and  C:P  ratio  of  the  residue, temperature and soil water content. \n",
    "E_cn: C:N ratio of the residue n the soil layer \n",
    "rsd: residue in layer ly (kg/ha)\n",
    "0.58: fraction of residue that is carbon\n",
    "fresh_orgN: nitrogen in the fresh organic pool in layer (kg N/ha)\n",
    "NO3: amount of nitrate in layer (kg N/ha). \n",
    "E_cp: C:P ratio of the residue n the soil layer\n",
    "solP : amount of phosphorus in solution in layer (kg P/ha)\n",
    "fresh_orgP: hosphorus in the fresh organic pool in layer (kg P/ha).\n",
    "\"\"\"\n",
    "rsd=1 ###############################\n",
    "\n",
    "E_cn = 0.58 * rsd /fresh_orgN + NO3\n",
    "\n",
    "E_cp = 0.58 * rsd /fresh_orgP + solP\n",
    "\n",
    "\n",
    "\"\"\"\n",
    "DECAY RATE CONSTANT\n",
    "The decay rate constant defines the fraction of residue that is decomposed. \n",
    "d_rate_const: decay rate constant \n",
    "B_rsd: The  fraction  of  residue  which  will  decompose  in  a  day assuming \n",
    "optimal  moisture,  temperature,  C:N  ratio  and  C:P ratio (default=0.05).\n",
    "\"\"\"\n",
    "a = np.exp(-0.693*(E_cn - 25)/25)\n",
    "b = np.exp(-0.693*(E_cp - 200)/200)\n",
    "c = [a,b,1]\n",
    "\n",
    "NCRC = min(c)\n",
    "\n",
    "B_rsd = 0.05\n",
    "\n",
    "d_rate_const =  B_rsd * NCRC * np.sqrt(NCTF*NCWF)\n",
    "\n",
    "#minP_freshorgP : Mineralization from the residue fresh organic P pool \n",
    "#decP_freshorgP : decomposition from the residue fresh organic P pool\n",
    "minP_freshorgP = 0.8 * d_rate_const * fresh_orgP\n",
    "\n",
    "decP_freshorgP = 0.2 * d_rate_const * fresh_orgP"
   ]
  },
  {
   "cell_type": "code",
   "execution_count": 11,
   "metadata": {
    "collapsed": true
   },
   "outputs": [],
   "source": [
    "#############################################################################\n",
    "            #SORPTION OF INORGANIC P\n",
    "#############################################################################\n",
    "\n",
    "\"\"\"\n",
    "SWAT assumes a rapid equilibrium exists between solution  P  and  an  “active”\n",
    "mineral  pool. slow  reaction  is simulated  by  the  slow  equilibrium  \n",
    "assumed  to  exist  between  the  “active”  and “stable”  mineral  pools. \n",
    "Equilibration between the solution and active mineral pool is governed by \n",
    "the phosphorus availability index (PAI)\n",
    "solnP_f: amount  of phosphorus in solution after fertilization and incubation\n",
    "solnP_i: amount  of phosphorus in solution before fertilization \n",
    "fert_minP: the amount of soluble P fertilizer added to the sample\n",
    "\n",
    "PAI is calulated as:\n",
    "PAI = solnP_f - solnP_i/fert_minP\n",
    "\n",
    "if the value is not provided, default value is set to 0.4\"\"\"\n",
    "PAI = 0.4"
   ]
  },
  {
   "cell_type": "code",
   "execution_count": 12,
   "metadata": {},
   "outputs": [],
   "source": [
    "\"\"\"\n",
    "MOVEMENT BETWEEN ACTIVE MINERAL POOL AND SOLUTION\n",
    "The  movement  of  phosphorus  between  the  solution  and  active  mineral \n",
    "pools is governed by the equilibration equations: \n",
    "P_trans_sol_active_P: Amount of phosphorus transferred between the soluble and \n",
    "active mineral pool (kg P/ha). Positive value indicates transfer from \n",
    "solution to active mineral pool and vice a versa.\n",
    "solP:  Amount of phosphorus in solution (kg P/ha)\n",
    "active_minP: amount of phosphorus in the active mineral pool (kg P/ha)\n",
    "\"\"\"\n",
    "active_minP = 0.02 #####################################\n",
    "minP=0.4 ####################################\n",
    "\n",
    "if solP > minP * (PAI/(1-PAI)):\n",
    "    P_trans_sol_active_P = 0.1*(solP - active_minP * (PAI/(1-PAI)))\n",
    "    #print P_trans_sol_active_P\n",
    "elif solP < minP * (PAI/(1-PAI)):\n",
    "    P_trans_sol_active_P = 0.6*(solP - active_minP * (PAI/(1-PAI)))\n",
    "    #print P_trans_sol_active_P"
   ]
  },
  {
   "cell_type": "code",
   "execution_count": 13,
   "metadata": {
    "collapsed": true
   },
   "outputs": [],
   "source": [
    "\"\"\"\n",
    "MOVEMENT BETWEEN STABLE MINERAL POOL AND SOLUTION\n",
    "When not in equilibrium, the movement of phosphorus between the active \n",
    "and stable mineral pools is governed by the equations:\n",
    "B_eqp:: slow equilibrium constant set to 0.0006 per day\n",
    "\"\"\"\n",
    "stable_minP = 0.2 ######################################\n",
    "B_eqp= 0.0006 \n",
    "if stable_minP < 4 * active_minP:\n",
    "    P_trans_sol_stable_P = B_eqp * (4 * active_minP - stable_minP)\n",
    "elif stable_minP > 4 * active_minP:\n",
    "    P_trans_sol_stable_P = 0.1 * B_eqp * (4 * active_minP - stable_minP)"
   ]
  },
  {
   "cell_type": "code",
   "execution_count": 14,
   "metadata": {
    "collapsed": true
   },
   "outputs": [],
   "source": [
    "W_prec_surf = data['Percolation(mm)']"
   ]
  },
  {
   "cell_type": "code",
   "execution_count": 15,
   "metadata": {
    "collapsed": true
   },
   "outputs": [],
   "source": [
    "########## P LEACHING\n",
    "\n",
    "#P_perc : Amount of phosphorus moving from the top 10 mm into the first \n",
    "#soil layer (kg P/ha)\n",
    "#solP_10mm : amount of phosphorus in solution in the top 10 mm (kg P/ha)\n",
    "#W_prec_surf:  amount of water percolating to the first soil layer \n",
    "#from the top 10 mm on a given day (mm)\n",
    "#B_d: bulk density of the top 10mm  (Mg/m3) (assumed  to  be  equivalent  to  \n",
    "#bulk  density  of  first  soil  layer)\n",
    "#dpth: depth of the “surface” layer (10 mm)\n",
    "#Kd_perc: phosphorus percolation  coefficient  (m3/Mg)\n",
    "\n",
    "W_perc_surf = data['Percolation(mm)']\n",
    "solP_10mm = 1\n",
    "B_d = 1.3 #Bulk density values should fall between 1.1 and 1.9 Mg/m3. \n",
    "dpth = 200\n",
    "Kd_perc = 10 #The value can range from 10.0 to 17.5. default is 10\n",
    "\n",
    "P_perc = (solP_10mm * W_prec_surf) / (10 * B_d * dpth * Kd_perc)"
   ]
  },
  {
   "cell_type": "code",
   "execution_count": 16,
   "metadata": {
    "collapsed": true
   },
   "outputs": [],
   "source": [
    "data['P_percolation(Kg P /ha)'] = P_perc\n"
   ]
  },
  {
   "cell_type": "code",
   "execution_count": 18,
   "metadata": {},
   "outputs": [],
   "source": [
    "#############################################################################\n",
    "            #Fertilizer Application\n",
    "    \n",
    "#To predict the interaction of fertilizer  with  soil  and  runoff,  the  \n",
    "#model  assumes  that  the  effective  depth  of  inter-action  of  runoff  \n",
    "#with  soil  is  top  10  mm  and  runoff  transports  nutrients  that  are\n",
    "#available only in the top 10 mm of soil. The amount of fertilizer not applied \n",
    "#in the top 10 mm of soil is added to the first soil layer\n",
    "#############################################################################\n"
   ]
  },
  {
   "cell_type": "code",
   "execution_count": 21,
   "metadata": {},
   "outputs": [],
   "source": [
    "#############################################################################\n",
    "#When organic Fertilizer is applied, the model partitions it into fresh\n",
    "#and humic pools using following equations\n",
    "\n",
    "#fresh_orgP_fert: amount of P in the fresh organic pool added to the soil\n",
    "#as a result of fertilizer application (kg P /ha)\n",
    "#humic_orgP_fert: amount of P in the humus organic pool added to the soil \n",
    "#as a result of fertilizer application (kg P /ha)\n",
    "#orgP_fert: fraction of organic Pin fertilizer\n",
    "#fert: amount of fertilizer applied to the soil (kg /ha)\n",
    "\n",
    "#############################################################################"
   ]
  },
  {
   "cell_type": "code",
   "execution_count": null,
   "metadata": {
    "collapsed": true
   },
   "outputs": [],
   "source": [
    "# partitioning into fresh organic P \n",
    "fresh_orgP_fert =  0.5* orgP_fert * fert\n",
    "# partitioning into humic organic P\n",
    "humic_orgP_fert = 0.5* orgP_fert * fert"
   ]
  },
  {
   "cell_type": "code",
   "execution_count": null,
   "metadata": {
    "collapsed": true
   },
   "outputs": [],
   "source": [
    "#############################################################################\n",
    "            #Phosphorus Uptake by Plants\n",
    "    \n",
    "   # The  model assumes that plant uptake of P comes from the labile P pool \n",
    "#############################################################################\n",
    "\"\"\"\n",
    "P_uptake: plant P demand (kg /ha)[ Potential P uptake]\n",
    "Bio_optp:  expected  amount  of  P  content  in  plant  biomass  at a  given  plant  stage\n",
    "Bio_p: actual  amount  of  P  content  in  plant biomass\n",
    "\"\"\"\n",
    "P_uptake = 1.5 * Bio_optp * Bio_p "
   ]
  },
  {
   "cell_type": "code",
   "execution_count": null,
   "metadata": {
    "collapsed": true
   },
   "outputs": [],
   "source": [
    "\"\"\"P  uptake  from different soil depths\n",
    "P_uptake_z: potential P uptake by the plant to soil depth (Kg/ha)\n",
    "z: soil  depth  from  the  surface  (mm)\n",
    "B_p: distribution parameter for P uptake\n",
    "\n",
    "\"\"\"\n",
    "P_uptake_z = (P_uptake / 1-np.exp(-B_p))*(1-np.exp(-B_p*Z/Z_r))"
   ]
  },
  {
   "cell_type": "code",
   "execution_count": null,
   "metadata": {
    "collapsed": true
   },
   "outputs": [],
   "source": [
    "\"\"\"\n",
    "The  P uptake  for  a  soil  layer  is  calculated  as  a  difference\n",
    "between  P  uptake  at  the  lower and upper boundary of that soil layer.\n",
    "\n",
    "P_actual: actual amount of P removed from soil\n",
    "P_uptake: \n",
    "P_demand: P  uptake  demand  not  met  by  overlying  soil  layers  (kg  P  /ha)\n",
    "P_sol: amount  of  labile  P  present  in  the  soil  (kg  P / ha).\n",
    "\n",
    "\"\"\"\n",
    "\n",
    "P_actual = min((P_uptake + P_demand), P_sol)"
   ]
  },
  {
   "cell_type": "code",
   "execution_count": null,
   "metadata": {
    "collapsed": true
   },
   "outputs": [],
   "source": [
    "\"\"\"\n",
    "P_stress: P stress for a given day.If a sufficient amount of P is not available in the soil for optimum plant growth,\n",
    "plants may experience P stress. \n",
    "phi_P: scaling factor\n",
    "Bio_P: actual  P  content  of  plant  biomass (kg P /ha)\n",
    "Bio_optp: optimum P content of plant biomass (kg P /ha)\n",
    "\n",
    "\"\"\"\n",
    "P_stress = 1 - phi_P /(phi_P + np.exp(3.535-0.02597*phi_P))\n",
    "\n",
    "phi_P = 200 * (Bio_p /Bio_optp -0.5)"
   ]
  },
  {
   "cell_type": "code",
   "execution_count": null,
   "metadata": {
    "collapsed": true
   },
   "outputs": [],
   "source": [
    "#############################################################################\n",
    "            #PHOSPHORUS MOVEMENT IN SURFACE RUNOFF\n",
    "#############################################################################"
   ]
  },
  {
   "cell_type": "code",
   "execution_count": null,
   "metadata": {
    "collapsed": true
   },
   "outputs": [],
   "source": [
    "\"\"\"\n",
    "P_surf: the  amount  of  soluble  P  transported  by  surface  runoff  (kg  P  ha−1)\n",
    "solP: the amount of labile P (p in solution) in the top 10 mm (kg P /ha)\n",
    "Q_surf: the amount of surface runoff on a given day as depth (mm)\n",
    "B_d: bulk density of the top 10 mm of the soil (equivalent to B_d of first soil layer)\n",
    "dpth: depth of surface soil layer (mm)\n",
    "Kd_surf: phosphorus soil partitioning coefficient (m3/mg)\n",
    "\"\"\"\n",
    "\n",
    "P_surf = solP * Q_surf/ B_d * dpth * Kd_surf"
   ]
  },
  {
   "cell_type": "code",
   "execution_count": null,
   "metadata": {
    "collapsed": true
   },
   "outputs": [],
   "source": [
    "#############################################################################\n",
    "#ORGANIC AND  MINERAL  PHOSPHORUS ATTACHED TO  SEDIMENT IN  SURFACE  RUNOFF\n",
    "\n",
    "#mass  of  P  transported  with  sediment  to  the  stream  \n",
    "#uses a loading function developed by McElroy et al. (1976) and Williams and Hann (1978).\n",
    "\n",
    "#SedP_surf:amount of P transported with sediment to the main channel in surface runoff (kg P/ ha)\n",
    "#SedP_conc: concentration of P attached to sediment in top 10 mm (g P metric ton soil−1)\n",
    "#sed: sediment yield on a given day (metric tons)\n",
    "#area: HRU area (ha) (OFE in this case? or outlet for that matter, if we want values at the wshed outlet)\n",
    "#E_ps: P enrichment ratio: The ratio of the concentration of P transported with the sediment to the \n",
    "      #concentration of P in the soil surface layer is  defined  as  the  P  enrichment  ratio \n",
    "#sed_conc_sq: concentration  of  sediment  in  surface  runoff  (mg  sediment /m3)\n",
    "#############################################################################\n",
    "\n",
    "\n",
    "SedP_surf = 0.001* SedP_conc *(sed/area) * E_ps\n",
    "\n",
    "sedP_conc = 100*(active_minP_surf + stable_minP_surf + humic_orgP_surf + fresh_orgP_surf/B_d * dpth)\n",
    "\n",
    "# Enrichment ratio is calculated for each storm event using formula by (Menzel 1980)\n",
    "\n",
    "E_ps = 0.78 * (Sed_conc_sq)**(- 0.2468)\n",
    "\n",
    "sed_conc_sq = sed / 10 * area * Q_surf\n",
    "\n"
   ]
  },
  {
   "cell_type": "code",
   "execution_count": null,
   "metadata": {
    "collapsed": true
   },
   "outputs": [],
   "source": []
  },
  {
   "cell_type": "code",
   "execution_count": null,
   "metadata": {
    "collapsed": true
   },
   "outputs": [],
   "source": []
  }
 ],
 "metadata": {
  "kernelspec": {
   "display_name": "Python 2",
   "language": "python",
   "name": "python2"
  },
  "language_info": {
   "codemirror_mode": {
    "name": "ipython",
    "version": 2
   },
   "file_extension": ".py",
   "mimetype": "text/x-python",
   "name": "python",
   "nbconvert_exporter": "python",
   "pygments_lexer": "ipython2",
   "version": "2.7.13"
  }
 },
 "nbformat": 4,
 "nbformat_minor": 2
}
